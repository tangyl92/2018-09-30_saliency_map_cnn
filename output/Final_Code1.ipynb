{
  "nbformat": 4,
  "nbformat_minor": 0,
  "metadata": {
    "colab": {
      "name": "Final_Code1.ipynb",
      "version": "0.3.2",
      "provenance": [],
      "collapsed_sections": []
    },
    "kernelspec": {
      "name": "python3",
      "display_name": "Python 3"
    },
    "accelerator": "GPU"
  },
  "cells": [
    {
      "metadata": {
        "id": "v7IsFrzFyz-Y",
        "colab_type": "code",
        "outputId": "a39b9ed5-bb51-475d-d6e2-7e958610c572",
        "colab": {
          "base_uri": "https://localhost:8080/",
          "height": 34
        }
      },
      "cell_type": "code",
      "source": [
        "% matplotlib inline\n",
        "import matplotlib.pyplot as plt\n",
        "import tensorflow as tf\n",
        "import numpy as np\n",
        "import keras\n",
        "import math\n",
        "import PIL.Image\n",
        "import time\n",
        "import os\n",
        "\n",
        "from __future__ import print_function\n",
        "from sklearn.metrics import confusion_matrix\n",
        "from keras.datasets import mnist\n",
        "from keras.models import Sequential, Model\n",
        "from keras import backend as K\n",
        "\n",
        "from keras.applications import vgg16\n",
        "from keras.layers import Dense, Dropout, Flatten, Activation, BatchNormalization\n",
        "from keras.layers import Conv2D, MaxPooling2D\n",
        "from keras.preprocessing.image import save_img\n",
        "from keras import regularizers\n",
        "from keras.applications.vgg16 import VGG16\n",
        "from keras.preprocessing import image"
      ],
      "execution_count": 0,
      "outputs": [
        {
          "output_type": "stream",
          "text": [
            "Using TensorFlow backend.\n"
          ],
          "name": "stderr"
        }
      ]
    },
    {
      "metadata": {
        "id": "OX81X2grynM6",
        "colab_type": "text"
      },
      "cell_type": "markdown",
      "source": [
        "## MNIST"
      ]
    },
    {
      "metadata": {
        "id": "Xjlim-pAnQ8M",
        "colab_type": "code",
        "colab": {}
      },
      "cell_type": "code",
      "source": [
        ""
      ],
      "execution_count": 0,
      "outputs": []
    },
    {
      "metadata": {
        "id": "Fj8iH2xgyZ-B",
        "colab_type": "code",
        "colab": {}
      },
      "cell_type": "code",
      "source": [
        "### Function used to plot 9 images in a 3x3 grid, and writing the true and predicted classes below each image.\n",
        "def plot_images(images, cls_true):\n",
        "    assert len(images) == len(cls_true) == 9\n",
        "    \n",
        "    # Create figure with 3x3 sub-plots.\n",
        "    fig, axes = plt.subplots(3, 3)\n",
        "    fig.subplots_adjust(hspace=0.3, wspace=0.3)\n",
        "\n",
        "    for i, ax in enumerate(axes.flat):\n",
        "        # Plot image.\n",
        "        ax.imshow(images[i].reshape((28, 28)), cmap='binary')\n",
        "\n",
        "        # Show true classes.      \n",
        "        xlabel = \"True: {0}\".format(cls_true[i])\n",
        "\n",
        "        # Show the classes as the label on the x-axis.\n",
        "        ax.set_xlabel(xlabel)\n",
        "        \n",
        "        # Remove ticks from the plot.\n",
        "        ax.set_xticks([])\n",
        "        ax.set_yticks([])\n",
        "    \n",
        "    # Ensure the plot is shown correctly with multiple plots\n",
        "    # in a single Notebook cell.\n",
        "    plt.show()"
      ],
      "execution_count": 0,
      "outputs": []
    },
    {
      "metadata": {
        "id": "KEdw05NV1BKp",
        "colab_type": "code",
        "colab": {}
      },
      "cell_type": "code",
      "source": [
        "(x_train, y_train), (x_test, y_test) = mnist.load_data()"
      ],
      "execution_count": 0,
      "outputs": []
    },
    {
      "metadata": {
        "id": "-2vjPPu61gCW",
        "colab_type": "code",
        "outputId": "0328d931-fa3a-4d96-b0db-796466a760ad",
        "colab": {
          "base_uri": "https://localhost:8080/",
          "height": 262
        }
      },
      "cell_type": "code",
      "source": [
        "# Get the first images from the test-set.\n",
        "images = x_test[0:9]\n",
        "\n",
        "# Get the true classes for those images.\n",
        "cls_true = y_test[0:9]\n",
        "\n",
        "\n",
        "# Plot the images and labels using our helper-function above.\n",
        "plot_images(images=images, cls_true=cls_true)\n"
      ],
      "execution_count": 0,
      "outputs": [
        {
          "output_type": "display_data",
          "data": {
            "image/png": "[encoded data removed]",
            "text/plain": [
              "<matplotlib.figure.Figure at 0x7f973b230d30>"
            ]
          },
          "metadata": {
            "tags": []
          }
        }
      ]
    },
    {
      "metadata": {
        "id": "stvv2c5G3F_T",
        "colab_type": "code",
        "colab": {}
      },
      "cell_type": "code",
      "source": [
        "batch_size = 128\n",
        "num_classes = 10\n",
        "epochs = 12\n",
        "img_rows, img_cols = 28, 28\n",
        "input_shape = (28,28,1)"
      ],
      "execution_count": 0,
      "outputs": []
    },
    {
      "metadata": {
        "id": "8Ln8gJxJ1wg-",
        "colab_type": "code",
        "colab": {}
      },
      "cell_type": "code",
      "source": [
        "x_train = np.expand_dims(x_train, axis = 3)\n",
        "x_test = np.expand_dims(x_test, axis = 3)\n",
        "y_train = keras.utils.to_categorical(y_train, num_classes)\n",
        "y_test = keras.utils.to_categorical(y_test, num_classes)"
      ],
      "execution_count": 0,
      "outputs": []
    },
    {
      "metadata": {
        "id": "cW0a3rwo2EEN",
        "colab_type": "code",
        "colab": {}
      },
      "cell_type": "code",
      "source": [
        "# Start construction of the Keras Sequential model.\n",
        "model = Sequential()\n",
        "\n",
        "# First convolutional layer with ReLU-activation and max-pooling.\n",
        "model.add(keras.layers.Conv2D(filters = 32, kernel_size=(3, 3),\n",
        "                 activation='relu',\n",
        "                 input_shape= input_shape, use_bias = True, name = 'layer_conv1'))\n",
        "model.add(keras.layers.MaxPooling2D(pool_size=(2, 2), strides = 2))\n",
        "\n",
        "# Second convolutional layer with ReLU-activation and max-pooling.\n",
        "model.add(keras.layers.Conv2D(kernel_size=(3, 3), filters=64, padding='same',\n",
        "                 activation='relu', name='layer_conv2', use_bias = True))\n",
        "model.add(keras.layers.MaxPooling2D(pool_size=(2, 2), strides = 2))\n",
        "model.add(keras.layers.Flatten())\n",
        "\n",
        "# Two fully connected layers\n",
        "model.add(keras.layers.Dense(128, activation='relu', use_bias = True, name = 'fc_layer1'))\n",
        "model.add(keras.layers.Dropout(0.3))\n",
        "model.add(keras.layers.Dense(num_classes, name = 'fc_layer2'))\n",
        "model.add(keras.layers.Softmax())\n",
        "          \n",
        "\n",
        "model.compile(loss='categorical_crossentropy',\n",
        "              optimizer= \"adam\",\n",
        "              metrics=['accuracy'])\n",
        "\n"
      ],
      "execution_count": 0,
      "outputs": []
    },
    {
      "metadata": {
        "id": "CPehu8Qv2V0b",
        "colab_type": "code",
        "outputId": "f9398b23-3918-40b3-c7cb-9eb41337812d",
        "colab": {
          "base_uri": "https://localhost:8080/",
          "height": 451
        }
      },
      "cell_type": "code",
      "source": [
        "\n",
        "model.fit(x_train, y_train,\n",
        "          batch_size=batch_size,\n",
        "          epochs=epochs)\n",
        "\n",
        "score = model.evaluate(x_test, y_test, verbose=0)\n",
        "print(score)"
      ],
      "execution_count": 0,
      "outputs": [
        {
          "output_type": "stream",
          "text": [
            "Epoch 1/12\n",
            "60000/60000 [==============================] - 6s 101us/step - loss: 1.0883 - acc: 0.8861\n",
            "Epoch 2/12\n",
            "60000/60000 [==============================] - 6s 94us/step - loss: 0.0908 - acc: 0.9736\n",
            "Epoch 3/12\n",
            "60000/60000 [==============================] - 6s 94us/step - loss: 0.0627 - acc: 0.9810\n",
            "Epoch 4/12\n",
            "60000/60000 [==============================] - 6s 95us/step - loss: 0.0515 - acc: 0.9842\n",
            "Epoch 5/12\n",
            "60000/60000 [==============================] - 6s 95us/step - loss: 0.0428 - acc: 0.9871\n",
            "Epoch 6/12\n",
            "60000/60000 [==============================] - 6s 96us/step - loss: 0.0382 - acc: 0.9884\n",
            "Epoch 7/12\n",
            "60000/60000 [==============================] - 6s 96us/step - loss: 0.0333 - acc: 0.9894\n",
            "Epoch 8/12\n",
            "60000/60000 [==============================] - 6s 94us/step - loss: 0.0307 - acc: 0.9907\n",
            "Epoch 9/12\n",
            "60000/60000 [==============================] - 6s 93us/step - loss: 0.0305 - acc: 0.9904\n",
            "Epoch 10/12\n",
            "60000/60000 [==============================] - 6s 92us/step - loss: 0.0278 - acc: 0.9916\n",
            "Epoch 11/12\n",
            "60000/60000 [==============================] - 6s 92us/step - loss: 0.0264 - acc: 0.9917\n",
            "Epoch 12/12\n",
            "60000/60000 [==============================] - 6s 92us/step - loss: 0.0258 - acc: 0.9919\n",
            "[0.041925414074801805, 0.99]\n"
          ],
          "name": "stdout"
        }
      ]
    },
    {
      "metadata": {
        "id": "wXkFHG_b3q5u",
        "colab_type": "code",
        "outputId": "30272760-5eaf-4f07-ff54-20fe24596707",
        "colab": {
          "base_uri": "https://localhost:8080/",
          "height": 451
        }
      },
      "cell_type": "code",
      "source": [
        "# Save and reload model\n",
        "path_model = 'model.keras.mnist'\n",
        "model.save(path_model)\n",
        "model_load = keras.models.load_model(path_model)\n",
        "model_load.summary()"
      ],
      "execution_count": 0,
      "outputs": [
        {
          "output_type": "stream",
          "text": [
            "_________________________________________________________________\n",
            "Layer (type)                 Output Shape              Param #   \n",
            "=================================================================\n",
            "layer_conv1 (Conv2D)         (None, 26, 26, 32)        320       \n",
            "_________________________________________________________________\n",
            "max_pooling2d_5 (MaxPooling2 (None, 13, 13, 32)        0         \n",
            "_________________________________________________________________\n",
            "layer_conv2 (Conv2D)         (None, 13, 13, 64)        18496     \n",
            "_________________________________________________________________\n",
            "max_pooling2d_6 (MaxPooling2 (None, 6, 6, 64)          0         \n",
            "_________________________________________________________________\n",
            "flatten_3 (Flatten)          (None, 2304)              0         \n",
            "_________________________________________________________________\n",
            "fc_layer1 (Dense)            (None, 128)               295040    \n",
            "_________________________________________________________________\n",
            "dropout_3 (Dropout)          (None, 128)               0         \n",
            "_________________________________________________________________\n",
            "fc_layer2 (Dense)            (None, 10)                1290      \n",
            "_________________________________________________________________\n",
            "softmax_3 (Softmax)          (None, 10)                0         \n",
            "=================================================================\n",
            "Total params: 315,146\n",
            "Trainable params: 315,146\n",
            "Non-trainable params: 0\n",
            "_________________________________________________________________\n"
          ],
          "name": "stdout"
        }
      ]
    },
    {
      "metadata": {
        "id": "TRVpvcUI4Fj6",
        "colab_type": "code",
        "colab": {}
      },
      "cell_type": "code",
      "source": [
        "def plot_conv_output(values):\n",
        "    # Number of filters used in the conv. layer.\n",
        "    num_filters = values.shape[3]\n",
        "\n",
        "    # Number of grids to plot.\n",
        "    # Rounded-up, square-root of the number of filters.\n",
        "    num_grids = math.ceil(math.sqrt(num_filters))\n",
        "    \n",
        "    # Create figure with a grid of sub-plots.\n",
        "    fig, axes = plt.subplots(num_grids, num_grids)\n",
        "\n",
        "    # Plot the output images of all the filters.\n",
        "    for i, ax in enumerate(axes.flat):\n",
        "        # Only plot the images for valid filters.\n",
        "        if i<num_filters:\n",
        "            # Get the output image of using the i'th filter.\n",
        "            img = values[0, :, :, i]\n",
        "\n",
        "            # Plot image.\n",
        "            ax.imshow(img, interpolation='nearest', cmap='binary')\n",
        "        \n",
        "        # Remove ticks from the plot.\n",
        "        ax.set_xticks([])\n",
        "        ax.set_yticks([])\n",
        "    \n",
        "    # Ensure the plot is shown correctly with multiple plots\n",
        "    # in a single Notebook cell.\n",
        "    plt.show()"
      ],
      "execution_count": 0,
      "outputs": []
    },
    {
      "metadata": {
        "id": "JaYWwFiM4J8x",
        "colab_type": "code",
        "outputId": "0fdf140b-6d9f-4ed8-e691-941b43b51fda",
        "colab": {
          "base_uri": "https://localhost:8080/",
          "height": 515
        }
      },
      "cell_type": "code",
      "source": [
        "# get weight of filters in conv layer 1,2\n",
        "layer_conv1 = model_load.layers[0]\n",
        "layer_conv2 = model_load.layers[2]\n",
        "\n",
        "# get output values of the first convolutional layer and visualize them\n",
        "output_conv1 = K.function(inputs=[layer_conv1.input],\n",
        "                          outputs=[layer_conv1.output])\n",
        "\n",
        "layer_output1 = output_conv1([[x_test[0]]])[0]\n",
        "print(layer_output1.shape)\n",
        "\n",
        "plot_conv_output(values=layer_output1)\n",
        "\n",
        "# get output values of the second convolutional layer and visualize them\n",
        "output_conv2 = K.function(inputs=[layer_conv1.input],\n",
        "                          outputs=[layer_conv2.output])\n",
        "\n",
        "layer_output2 = output_conv2([[x_test[0]]])[0]\n",
        "print(layer_output2.shape)\n",
        "plot_conv_output(values=layer_output2)"
      ],
      "execution_count": 0,
      "outputs": [
        {
          "output_type": "stream",
          "text": [
            "(1, 26, 26, 32)\n"
          ],
          "name": "stdout"
        },
        {
          "output_type": "display_data",
          "data": {
            "image/png": "[encoded data removed]",
            "text/plain": [
              "<matplotlib.figure.Figure at 0x7fd54bdd7da0>"
            ]
          },
          "metadata": {
            "tags": []
          }
        },
        {
          "output_type": "stream",
          "text": [
            "(1, 13, 13, 64)\n"
          ],
          "name": "stdout"
        },
        {
          "output_type": "display_data",
          "data": {
            "image/png": "[encoded data removed]",
            "text/plain": [
              "<matplotlib.figure.Figure at 0x7fd5416ab710>"
            ]
          },
          "metadata": {
            "tags": []
          }
        }
      ]
    }
  ]
}